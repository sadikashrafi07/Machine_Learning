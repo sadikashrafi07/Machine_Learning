{
 "cells": [
  {
   "cell_type": "markdown",
   "id": "d261c0da",
   "metadata": {},
   "source": [
    "# Pandas provides two functions for binning data: cut and qcut. The cut function is used for equal-width binning, while qcut is used for equal-frequency binning."
   ]
  },
  {
   "cell_type": "code",
   "execution_count": 31,
   "id": "ec8c229b",
   "metadata": {},
   "outputs": [],
   "source": [
    "import pandas as pd"
   ]
  },
  {
   "cell_type": "code",
   "execution_count": 32,
   "id": "7d2a16e9",
   "metadata": {},
   "outputs": [
    {
     "data": {
      "text/html": [
       "<div>\n",
       "<style scoped>\n",
       "    .dataframe tbody tr th:only-of-type {\n",
       "        vertical-align: middle;\n",
       "    }\n",
       "\n",
       "    .dataframe tbody tr th {\n",
       "        vertical-align: top;\n",
       "    }\n",
       "\n",
       "    .dataframe thead th {\n",
       "        text-align: right;\n",
       "    }\n",
       "</style>\n",
       "<table border=\"1\" class=\"dataframe\">\n",
       "  <thead>\n",
       "    <tr style=\"text-align: right;\">\n",
       "      <th></th>\n",
       "      <th>Pregnancies</th>\n",
       "      <th>Glucose</th>\n",
       "      <th>BloodPressure</th>\n",
       "      <th>SkinThickness</th>\n",
       "      <th>Insulin</th>\n",
       "      <th>BMI</th>\n",
       "      <th>DiabetesPedigreeFunction</th>\n",
       "      <th>Age</th>\n",
       "      <th>Outcome</th>\n",
       "    </tr>\n",
       "  </thead>\n",
       "  <tbody>\n",
       "    <tr>\n",
       "      <th>0</th>\n",
       "      <td>6</td>\n",
       "      <td>148</td>\n",
       "      <td>72</td>\n",
       "      <td>35</td>\n",
       "      <td>0</td>\n",
       "      <td>33.6</td>\n",
       "      <td>0.627</td>\n",
       "      <td>50</td>\n",
       "      <td>1</td>\n",
       "    </tr>\n",
       "    <tr>\n",
       "      <th>1</th>\n",
       "      <td>1</td>\n",
       "      <td>85</td>\n",
       "      <td>66</td>\n",
       "      <td>29</td>\n",
       "      <td>0</td>\n",
       "      <td>26.6</td>\n",
       "      <td>0.351</td>\n",
       "      <td>31</td>\n",
       "      <td>0</td>\n",
       "    </tr>\n",
       "    <tr>\n",
       "      <th>2</th>\n",
       "      <td>8</td>\n",
       "      <td>183</td>\n",
       "      <td>64</td>\n",
       "      <td>0</td>\n",
       "      <td>0</td>\n",
       "      <td>23.3</td>\n",
       "      <td>0.672</td>\n",
       "      <td>32</td>\n",
       "      <td>1</td>\n",
       "    </tr>\n",
       "    <tr>\n",
       "      <th>3</th>\n",
       "      <td>1</td>\n",
       "      <td>89</td>\n",
       "      <td>66</td>\n",
       "      <td>23</td>\n",
       "      <td>94</td>\n",
       "      <td>28.1</td>\n",
       "      <td>0.167</td>\n",
       "      <td>21</td>\n",
       "      <td>0</td>\n",
       "    </tr>\n",
       "    <tr>\n",
       "      <th>4</th>\n",
       "      <td>0</td>\n",
       "      <td>137</td>\n",
       "      <td>40</td>\n",
       "      <td>35</td>\n",
       "      <td>168</td>\n",
       "      <td>43.1</td>\n",
       "      <td>2.288</td>\n",
       "      <td>33</td>\n",
       "      <td>1</td>\n",
       "    </tr>\n",
       "  </tbody>\n",
       "</table>\n",
       "</div>"
      ],
      "text/plain": [
       "   Pregnancies  Glucose  BloodPressure  SkinThickness  Insulin   BMI  \\\n",
       "0            6      148             72             35        0  33.6   \n",
       "1            1       85             66             29        0  26.6   \n",
       "2            8      183             64              0        0  23.3   \n",
       "3            1       89             66             23       94  28.1   \n",
       "4            0      137             40             35      168  43.1   \n",
       "\n",
       "   DiabetesPedigreeFunction  Age  Outcome  \n",
       "0                     0.627   50        1  \n",
       "1                     0.351   31        0  \n",
       "2                     0.672   32        1  \n",
       "3                     0.167   21        0  \n",
       "4                     2.288   33        1  "
      ]
     },
     "execution_count": 32,
     "metadata": {},
     "output_type": "execute_result"
    }
   ],
   "source": [
    "df=pd.read_csv('diabetes.csv')\n",
    "df.head()"
   ]
  },
  {
   "cell_type": "code",
   "execution_count": 33,
   "id": "304be8fc",
   "metadata": {},
   "outputs": [
    {
     "data": {
      "text/plain": [
       "array([21., 51., 81.])"
      ]
     },
     "execution_count": 33,
     "metadata": {},
     "output_type": "execute_result"
    }
   ],
   "source": [
    "import numpy as np\n",
    "\n",
    "min=df['Age'].min()\n",
    "max=df['Age'].max()\n",
    "bins=np.linspace(min,max,3)\n",
    "bins"
   ]
  },
  {
   "cell_type": "code",
   "execution_count": 34,
   "id": "ac0935a8",
   "metadata": {},
   "outputs": [
    {
     "data": {
      "text/plain": [
       "0      middle\n",
       "1       Young\n",
       "2       Young\n",
       "3       Young\n",
       "4       Young\n",
       "        ...  \n",
       "763       Old\n",
       "764     Young\n",
       "765     Young\n",
       "766    middle\n",
       "767     Young\n",
       "Name: bin, Length: 768, dtype: category\n",
       "Categories (3, object): ['Young' < 'middle' < 'Old']"
      ]
     },
     "execution_count": 34,
     "metadata": {},
     "output_type": "execute_result"
    }
   ],
   "source": [
    "num_bins=3\n",
    "df['bin'] = pd.cut(df['Age'], bins=num_bins, labels=[\"Young\",\"middle\",\"Old\"])\n",
    "df['bin']"
   ]
  },
  {
   "cell_type": "code",
   "execution_count": 35,
   "id": "c36805eb",
   "metadata": {},
   "outputs": [
    {
     "name": "stdout",
     "output_type": "stream",
     "text": [
      "0       (41.0, 61.0]\n",
      "1      (20.94, 41.0]\n",
      "2      (20.94, 41.0]\n",
      "3      (20.94, 41.0]\n",
      "4      (20.94, 41.0]\n",
      "           ...      \n",
      "763     (61.0, 81.0]\n",
      "764    (20.94, 41.0]\n",
      "765    (20.94, 41.0]\n",
      "766     (41.0, 61.0]\n",
      "767    (20.94, 41.0]\n",
      "Name: Age, Length: 768, dtype: category\n",
      "Categories (3, interval[float64, right]): [(20.94, 41.0] < (41.0, 61.0] < (61.0, 81.0]]\n"
     ]
    }
   ],
   "source": [
    "categorical_object = pd.cut(df['Age'], 3)\n",
    "print(categorical_object)\n"
   ]
  },
  {
   "cell_type": "code",
   "execution_count": 36,
   "id": "2b72de2b",
   "metadata": {},
   "outputs": [
    {
     "name": "stdout",
     "output_type": "stream",
     "text": [
      "(20.94, 41.0]    596\n",
      "(41.0, 61.0]     147\n",
      "(61.0, 81.0]      25\n",
      "Name: Age, dtype: int64\n"
     ]
    }
   ],
   "source": [
    "print(pd.value_counts(categorical_object))"
   ]
  },
  {
   "cell_type": "code",
   "execution_count": 37,
   "id": "e954ee00",
   "metadata": {},
   "outputs": [
    {
     "name": "stdout",
     "output_type": "stream",
     "text": [
      "0    (0.999, 4.0]\n",
      "1    (0.999, 4.0]\n",
      "2    (0.999, 4.0]\n",
      "3    (0.999, 4.0]\n",
      "4      (4.0, 7.0]\n",
      "5      (4.0, 7.0]\n",
      "6      (4.0, 7.0]\n",
      "7     (7.0, 10.0]\n",
      "8     (7.0, 10.0]\n",
      "9     (7.0, 10.0]\n",
      "dtype: category\n",
      "Categories (3, interval[float64, right]): [(0.999, 4.0] < (4.0, 7.0] < (7.0, 10.0]]\n"
     ]
    }
   ],
   "source": [
    "import pandas as pd\n",
    " # data\n",
    "data = pd.Series([1, 2, 3, 4, 5, 6, 7, 8, 9, 10])\n",
    " # define number of bins\n",
    "num_bins = 3\n",
    " # use pandas' qcut function\n",
    "bins = pd.qcut(data, q=num_bins)\n",
    "print(bins)"
   ]
  },
  {
   "cell_type": "code",
   "execution_count": 38,
   "id": "60f75b69",
   "metadata": {},
   "outputs": [
    {
     "name": "stdout",
     "output_type": "stream",
     "text": [
      "Bins: [21. 41. 61. 81.]\n",
      "Counts: [574 167  27]\n"
     ]
    }
   ],
   "source": [
    "import numpy as np\n",
    " \n",
    "# data\n",
    "data = np.array(df['Age'])\n",
    "# define number of bins\n",
    "num_bins = 3\n",
    "# use numpy's histogram function\n",
    "counts, bins = np.histogram(data, bins=num_bins)\n",
    "print(f\"Bins: {bins}\")\n",
    "print(f\"Counts: {counts}\")"
   ]
  },
  {
   "cell_type": "markdown",
   "id": "e0f9d551",
   "metadata": {},
   "source": [
    "# for equal-frequency binning"
   ]
  },
  {
   "cell_type": "code",
   "execution_count": 39,
   "id": "1d751e6a",
   "metadata": {},
   "outputs": [
    {
     "name": "stdout",
     "output_type": "stream",
     "text": [
      "    points  assists  rebounds        points_bin\n",
      "0        4        2         7   (3.999, 10.667]\n",
      "1        4        5         7   (3.999, 10.667]\n",
      "2        7        4         4   (3.999, 10.667]\n",
      "3        8        7         6   (3.999, 10.667]\n",
      "4       12        7         3  (10.667, 19.333]\n",
      "5       13        8         8  (10.667, 19.333]\n",
      "6       15        5         9  (10.667, 19.333]\n",
      "7       18        4         9  (10.667, 19.333]\n",
      "8       22        5        12    (19.333, 25.0]\n",
      "9       23       11        11    (19.333, 25.0]\n",
      "10      23       13         8    (19.333, 25.0]\n",
      "11      25        8         9    (19.333, 25.0]\n"
     ]
    }
   ],
   "source": [
    "import pandas as pd\n",
    "#create DataFrame\n",
    "df = pd.DataFrame({'points': [4, 4, 7, 8, 12, 13, 15, 18, 22, 23, 23, 25],\n",
    "                   'assists': [2, 5, 4, 7, 7, 8, 5, 4, 5, 11, 13, 8],\n",
    "                   'rebounds': [7, 7, 4, 6, 3, 8, 9, 9, 12, 11, 8, 9]})\n",
    "#view DataFrame\n",
    "#print(df)\n",
    "#perform data binning on points variable\n",
    "df['points_bin'] = pd.qcut(df['points'], q=3)\n",
    "#view updated DataFrame\n",
    "print(df)"
   ]
  },
  {
   "cell_type": "code",
   "execution_count": null,
   "id": "410f5988",
   "metadata": {},
   "outputs": [],
   "source": []
  }
 ],
 "metadata": {
  "kernelspec": {
   "display_name": "Python 3 (ipykernel)",
   "language": "python",
   "name": "python3"
  },
  "language_info": {
   "codemirror_mode": {
    "name": "ipython",
    "version": 3
   },
   "file_extension": ".py",
   "mimetype": "text/x-python",
   "name": "python",
   "nbconvert_exporter": "python",
   "pygments_lexer": "ipython3",
   "version": "3.11.5"
  }
 },
 "nbformat": 4,
 "nbformat_minor": 5
}
