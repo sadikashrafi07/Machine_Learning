{
 "cells": [
  {
   "cell_type": "code",
   "execution_count": 1,
   "id": "59c6176e",
   "metadata": {},
   "outputs": [],
   "source": [
    "import warnings\n",
    "warnings.filterwarnings('ignore')"
   ]
  },
  {
   "cell_type": "code",
   "execution_count": 2,
   "id": "c6f396c1",
   "metadata": {
    "slideshow": {
     "slide_type": "slide"
    }
   },
   "outputs": [
    {
     "data": {
      "text/html": [
       "<div>\n",
       "<style scoped>\n",
       "    .dataframe tbody tr th:only-of-type {\n",
       "        vertical-align: middle;\n",
       "    }\n",
       "\n",
       "    .dataframe tbody tr th {\n",
       "        vertical-align: top;\n",
       "    }\n",
       "\n",
       "    .dataframe thead th {\n",
       "        text-align: right;\n",
       "    }\n",
       "</style>\n",
       "<table border=\"1\" class=\"dataframe\">\n",
       "  <thead>\n",
       "    <tr style=\"text-align: right;\">\n",
       "      <th></th>\n",
       "      <th>Pregnancies</th>\n",
       "      <th>Glucose</th>\n",
       "      <th>BloodPressure</th>\n",
       "      <th>SkinThickness</th>\n",
       "      <th>Insulin</th>\n",
       "      <th>BMI</th>\n",
       "      <th>DiabetesPedigreeFunction</th>\n",
       "      <th>Age</th>\n",
       "      <th>Outcome</th>\n",
       "    </tr>\n",
       "  </thead>\n",
       "  <tbody>\n",
       "    <tr>\n",
       "      <th>0</th>\n",
       "      <td>6</td>\n",
       "      <td>148</td>\n",
       "      <td>72</td>\n",
       "      <td>35</td>\n",
       "      <td>0</td>\n",
       "      <td>33.6</td>\n",
       "      <td>0.627</td>\n",
       "      <td>50</td>\n",
       "      <td>1</td>\n",
       "    </tr>\n",
       "    <tr>\n",
       "      <th>1</th>\n",
       "      <td>1</td>\n",
       "      <td>85</td>\n",
       "      <td>66</td>\n",
       "      <td>29</td>\n",
       "      <td>0</td>\n",
       "      <td>26.6</td>\n",
       "      <td>0.351</td>\n",
       "      <td>31</td>\n",
       "      <td>0</td>\n",
       "    </tr>\n",
       "    <tr>\n",
       "      <th>2</th>\n",
       "      <td>8</td>\n",
       "      <td>183</td>\n",
       "      <td>64</td>\n",
       "      <td>0</td>\n",
       "      <td>0</td>\n",
       "      <td>23.3</td>\n",
       "      <td>0.672</td>\n",
       "      <td>32</td>\n",
       "      <td>1</td>\n",
       "    </tr>\n",
       "    <tr>\n",
       "      <th>3</th>\n",
       "      <td>1</td>\n",
       "      <td>89</td>\n",
       "      <td>66</td>\n",
       "      <td>23</td>\n",
       "      <td>94</td>\n",
       "      <td>28.1</td>\n",
       "      <td>0.167</td>\n",
       "      <td>21</td>\n",
       "      <td>0</td>\n",
       "    </tr>\n",
       "    <tr>\n",
       "      <th>4</th>\n",
       "      <td>0</td>\n",
       "      <td>137</td>\n",
       "      <td>40</td>\n",
       "      <td>35</td>\n",
       "      <td>168</td>\n",
       "      <td>43.1</td>\n",
       "      <td>2.288</td>\n",
       "      <td>33</td>\n",
       "      <td>1</td>\n",
       "    </tr>\n",
       "  </tbody>\n",
       "</table>\n",
       "</div>"
      ],
      "text/plain": [
       "   Pregnancies  Glucose  BloodPressure  SkinThickness  Insulin   BMI  \\\n",
       "0            6      148             72             35        0  33.6   \n",
       "1            1       85             66             29        0  26.6   \n",
       "2            8      183             64              0        0  23.3   \n",
       "3            1       89             66             23       94  28.1   \n",
       "4            0      137             40             35      168  43.1   \n",
       "\n",
       "   DiabetesPedigreeFunction  Age  Outcome  \n",
       "0                     0.627   50        1  \n",
       "1                     0.351   31        0  \n",
       "2                     0.672   32        1  \n",
       "3                     0.167   21        0  \n",
       "4                     2.288   33        1  "
      ]
     },
     "execution_count": 2,
     "metadata": {},
     "output_type": "execute_result"
    }
   ],
   "source": [
    "# Importing\n",
    "import sklearn\n",
    "import pandas as pd\n",
    "import matplotlib.pyplot as plt\n",
    "\n",
    "# Load the dataset\n",
    "df_diabetics=pd.read_csv('diabetes.csv')\n",
    "# Create the dataframe\n",
    "df_diabetics.head()\n"
   ]
  },
  {
   "cell_type": "code",
   "execution_count": 3,
   "id": "828b34fd",
   "metadata": {
    "slideshow": {
     "slide_type": "slide"
    }
   },
   "outputs": [],
   "source": [
    "#import seaborn as sns\n",
    "#sns.distplot(df_diabetics.BMI)\n"
   ]
  },
  {
   "cell_type": "code",
   "execution_count": 9,
   "id": "d591edac",
   "metadata": {},
   "outputs": [
    {
     "data": {
      "text/plain": [
       "<AxesSubplot:xlabel='BMI'>"
      ]
     },
     "execution_count": 9,
     "metadata": {},
     "output_type": "execute_result"
    },
    {
     "data": {
      "image/png": "[encoded data removed]",
      "text/plain": [
       "<Figure size 432x288 with 1 Axes>"
      ]
     },
     "metadata": {
      "needs_background": "light"
     },
     "output_type": "display_data"
    }
   ],
   "source": [
    "# Box Plot\n",
    "import seaborn as sns\n",
    "sns.boxplot(df_diabetics['BMI'])\n"
   ]
  },
  {
   "cell_type": "code",
   "execution_count": 10,
   "id": "1a7daf10",
   "metadata": {},
   "outputs": [
    {
     "name": "stdout",
     "output_type": "stream",
     "text": [
      "(array([120, 125, 177, 193, 247, 303, 445, 673], dtype=int64),)\n"
     ]
    }
   ],
   "source": [
    "# Position of the Outlier\n",
    "import numpy as np\n",
    "print(np.where(df_diabetics['BMI']>50))\n"
   ]
  },
  {
   "cell_type": "code",
   "execution_count": 11,
   "id": "2dd9b704",
   "metadata": {},
   "outputs": [
    {
     "data": {
      "image/png": "[encoded data removed]",
      "text/plain": [
       "<Figure size 432x288 with 1 Axes>"
      ]
     },
     "metadata": {
      "needs_background": "light"
     },
     "output_type": "display_data"
    }
   ],
   "source": [
    "# Scatter plot\n",
    "fig, ax = plt.subplots(figsize = (6,4))\n",
    "ax.scatter(df_diabetics['BMI'],df_diabetics['BloodPressure'])\n",
    "# x-axis label\n",
    "ax.set_xlabel('(body mass index of people)')\n",
    "# y-axis label\n",
    "ax.set_ylabel('(bp of the people )')\n",
    "plt.show()"
   ]
  },
  {
   "cell_type": "code",
   "execution_count": 12,
   "id": "8fba6bf9",
   "metadata": {},
   "outputs": [
    {
     "name": "stdout",
     "output_type": "stream",
     "text": [
      "(array([120, 125, 193, 247, 303, 445], dtype=int64),)\n"
     ]
    }
   ],
   "source": [
    "# Position of the Outlier\n",
    "print(np.where((df_diabetics['BMI']>50) & (df_diabetics['BloodPressure']<100)))\n"
   ]
  },
  {
   "cell_type": "code",
   "execution_count": 13,
   "id": "32dbfdeb",
   "metadata": {},
   "outputs": [
    {
     "name": "stdout",
     "output_type": "stream",
     "text": [
      "0      1.425995\n",
      "1      0.190672\n",
      "2      0.105584\n",
      "3      1.041549\n",
      "4      0.020496\n",
      "         ...   \n",
      "763    2.532136\n",
      "764    0.531023\n",
      "765    0.275760\n",
      "766    1.170732\n",
      "767    0.871374\n",
      "Name: Age, Length: 768, dtype: float64\n"
     ]
    }
   ],
   "source": [
    "# Z score\n",
    "from scipy import stats\n",
    "import numpy as np\n",
    "\n",
    "z = np.abs(stats.zscore(df_diabetics['Age']))\n",
    "print(z)\n"
   ]
  },
  {
   "cell_type": "code",
   "execution_count": 15,
   "id": "4fc37b0a",
   "metadata": {},
   "outputs": [
    {
     "name": "stdout",
     "output_type": "stream",
     "text": [
      "(array([ 12,  13,  28,  30,  53,  93, 115, 123, 129, 148, 186, 206, 212,\n",
      "       221, 223, 263, 278, 294, 299, 319, 344, 361, 362, 363, 375, 388,\n",
      "       453, 456, 459, 475, 479, 487, 489, 495, 509, 512, 519, 537, 552,\n",
      "       557, 579, 582, 666, 674, 684, 759, 763], dtype=int64),)\n"
     ]
    }
   ],
   "source": [
    "threshold = 2\n",
    "\n",
    "# Position of the outlier\n",
    "print(np.where(z > 2))\n"
   ]
  },
  {
   "cell_type": "code",
   "execution_count": 17,
   "id": "6b513928",
   "metadata": {},
   "outputs": [
    {
     "name": "stdout",
     "output_type": "stream",
     "text": [
      "21.8\n",
      "44.35\n",
      "22.55\n",
      "21.8\n",
      "44.394999999999996\n"
     ]
    }
   ],
   "source": [
    "# IQR\n",
    "Q1 = np.percentile(df_diabetics['BMI'], 5, method='midpoint')\n",
    "Q3 = np.percentile(df_diabetics['BMI'], 95, method='midpoint')\n",
    "IQR = Q3 - Q1\n",
    "print(Q1)\n",
    "print(Q3)\n",
    "print(IQR)\n",
    "\n",
    "lower_lim = df_diabetics['BMI'].quantile(.05)\n",
    "print(lower_lim)\n",
    "upper_lim = df_diabetics['BMI'].quantile(.95)\n",
    "print(upper_lim)"
   ]
  },
  {
   "cell_type": "code",
   "execution_count": 19,
   "id": "1f879d2d",
   "metadata": {},
   "outputs": [
    {
     "name": "stdout",
     "output_type": "stream",
     "text": [
      "Upper Bound: 50.550000000000004\n",
      "8\n",
      "Lower Bound: 13.35\n",
      "11\n"
     ]
    }
   ],
   "source": [
    "# Above Upper bound\n",
    "upper=Q3+1.5*IQR\n",
    "upper_array=np.array(df_diabetics['BMI']>=upper)\n",
    "print(\"Upper Bound:\",upper)\n",
    "print(upper_array.sum())\n",
    "\n",
    "#Below Lower bound\n",
    "lower=Q1-1.5*IQR\n",
    "lower_array=np.array(df_diabetics['BMI']<=lower)\n",
    "print(\"Lower Bound:\",lower)\n",
    "print(lower_array.sum())\n"
   ]
  },
  {
   "cell_type": "code",
   "execution_count": 18,
   "id": "9c90d47e",
   "metadata": {},
   "outputs": [
    {
     "name": "stdout",
     "output_type": "stream",
     "text": [
      "1.5\n",
      "9.5\n",
      "8.0\n",
      "-10.5\n"
     ]
    }
   ],
   "source": [
    "\n",
    "Q1 = np.percentile([1,2,3,4,5,6,7,8,9,10], 5, method='midpoint')\n",
    "print(Q1)\n",
    "Q3 = np.percentile([1,2,3,4,5,6,7,8,9,10], 95, method='midpoint')\n",
    "print(Q3)\n",
    "IQR=Q3-Q1\n",
    "print(IQR)\n",
    "lower=Q1-(1.5*IQR)\n",
    "print(lower)\n",
    "\n"
   ]
  },
  {
   "cell_type": "code",
   "execution_count": null,
   "id": "e77a12e5",
   "metadata": {},
   "outputs": [],
   "source": []
  }
 ],
 "metadata": {
  "kernelspec": {
   "display_name": "Python 3 (ipykernel)",
   "language": "python",
   "name": "python3"
  },
  "language_info": {
   "codemirror_mode": {
    "name": "ipython",
    "version": 3
   },
   "file_extension": ".py",
   "mimetype": "text/x-python",
   "name": "python",
   "nbconvert_exporter": "python",
   "pygments_lexer": "ipython3",
   "version": "3.11.5"
  }
 },
 "nbformat": 4,
 "nbformat_minor": 5
}
